{
 "cells": [
  {
   "cell_type": "code",
   "execution_count": 14,
   "metadata": {},
   "outputs": [],
   "source": [
    "import numpy as np\n",
    "import matplotlib.pyplot as plt\n",
    "from scipy.stats import norm"
   ]
  },
  {
   "cell_type": "code",
   "execution_count": 51,
   "metadata": {},
   "outputs": [],
   "source": [
    "N = 250000\n",
    "times=N\n",
    "estimates = np.zeros(N)\n",
    "estimates[0] = 0.5\n",
    "for i in range(times-1):\n",
    "    sample_u = np.random.uniform(0,1)\n",
    "    sample_p = np.random.normal(,0.05)\n",
    "    if sample_u < min(1, norm.pdf(sample_p) / norm.pdf(estimates[i])):\n",
    "        estimates[i+1] = sample_p\n",
    "    else:\n",
    "        estimates[i+1] = estimates[i]"
   ]
  },
  {
   "cell_type": "code",
   "execution_count": 48,
   "metadata": {},
   "outputs": [
    {
     "data": {
      "text/plain": [
       "(array([0.11866985, 0.17800478, 1.51304062, 3.6194305 , 6.76418159,\n",
       "        7.59487056, 5.96316008, 3.02608124, 0.71201911, 0.17800478]),\n",
       " array([-0.1789894 , -0.14528244, -0.11157548, -0.07786852, -0.04416156,\n",
       "        -0.0104546 ,  0.02325236,  0.05695932,  0.09066628,  0.12437324,\n",
       "         0.1580802 ]),\n",
       " <a list of 10 Patch objects>)"
      ]
     },
     "execution_count": 48,
     "metadata": {},
     "output_type": "execute_result"
    },
    {
     "data": {
      "image/png": "[encoded data removed]",
      "text/plain": [
       "<Figure size 432x288 with 1 Axes>"
      ]
     },
     "metadata": {
      "needs_background": "light"
     },
     "output_type": "display_data"
    }
   ],
   "source": [
    "plt.hist(estimates.T, density=True, bins=10)"
   ]
  },
  {
   "cell_type": "code",
   "execution_count": null,
   "metadata": {},
   "outputs": [],
   "source": []
  },
  {
   "cell_type": "code",
   "execution_count": null,
   "metadata": {},
   "outputs": [],
   "source": []
  }
 ],
 "metadata": {
  "kernelspec": {
   "display_name": "Python 3",
   "language": "python",
   "name": "python3"
  },
  "language_info": {
   "codemirror_mode": {
    "name": "ipython",
    "version": 3
   },
   "file_extension": ".py",
   "mimetype": "text/x-python",
   "name": "python",
   "nbconvert_exporter": "python",
   "pygments_lexer": "ipython3",
   "version": "3.7.4"
  }
 },
 "nbformat": 4,
 "nbformat_minor": 2
}
