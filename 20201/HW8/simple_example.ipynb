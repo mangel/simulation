{
 "cells": [
  {
   "cell_type": "code",
   "execution_count": 27,
   "metadata": {},
   "outputs": [],
   "source": [
    "import numpy as np\n",
    "import matplotlib.pyplot as plt\n",
    "from scipy.stats import norm\n",
    "%matplotlib inline"
   ]
  },
  {
   "cell_type": "code",
   "execution_count": 28,
   "metadata": {},
   "outputs": [],
   "source": [
    "def f(x,mu,std):\n",
    "    return (1/(np.sqrt(2*np.pi*std**2)))*np.exp(-(x-mu)**2/(2*std**2))"
   ]
  },
  {
   "cell_type": "code",
   "execution_count": 47,
   "metadata": {},
   "outputs": [],
   "source": [
    "n=25000\n",
    "x = np.zeros(n)\n",
    "x[0] = 0\n",
    "sigma = 0.05 # mean and standard deviation"
   ]
  },
  {
   "cell_type": "code",
   "execution_count": 48,
   "metadata": {},
   "outputs": [],
   "source": [
    "for i in range(0,n-1):\n",
    "    x_c = np.random.normal(x[i], sigma)\n",
    "    rand = np.random.rand()\n",
    "    if rand < min(1, norm.pdf(x_c)/norm.pdf(x[i])):\n",
    "        x[i+1] = x_c\n",
    "    else:\n",
    "        x[i+1] = x[i]"
   ]
  },
  {
   "cell_type": "code",
   "execution_count": 49,
   "metadata": {},
   "outputs": [
    {
     "data": {
      "text/plain": [
       "(array([ 15.,  16.,  24.,  12.,  17.,  24.,  37.,  27.,  16.,  25.,  31.,\n",
       "         44.,  30.,  33.,  35.,  33.,  63.,  83., 102.,  99., 102., 107.,\n",
       "        139., 162., 168., 170., 194., 206., 168., 215., 214., 310., 315.,\n",
       "        288., 336., 329., 363., 395., 371., 460., 509., 527., 519., 534.,\n",
       "        577., 622., 629., 601., 677., 566., 535., 512., 471., 493., 615.,\n",
       "        614., 603., 561., 521., 487., 421., 420., 422., 326., 360., 330.,\n",
       "        299., 314., 343., 343., 374., 337., 313., 370., 325., 325., 269.,\n",
       "        248., 261., 210., 186., 186., 191., 186., 166., 144., 100.,  97.,\n",
       "         65.,  37.,  16.,  20.,  18.,   3.,   3.,   7.,   5.,   3.,   4.,\n",
       "          2.]),\n",
       " array([-2.63676997, -2.58539115, -2.53401233, -2.48263351, -2.43125469,\n",
       "        -2.37987587, -2.32849706, -2.27711824, -2.22573942, -2.1743606 ,\n",
       "        -2.12298178, -2.07160296, -2.02022414, -1.96884532, -1.91746651,\n",
       "        -1.86608769, -1.81470887, -1.76333005, -1.71195123, -1.66057241,\n",
       "        -1.60919359, -1.55781477, -1.50643596, -1.45505714, -1.40367832,\n",
       "        -1.3522995 , -1.30092068, -1.24954186, -1.19816304, -1.14678422,\n",
       "        -1.09540541, -1.04402659, -0.99264777, -0.94126895, -0.88989013,\n",
       "        -0.83851131, -0.78713249, -0.73575367, -0.68437486, -0.63299604,\n",
       "        -0.58161722, -0.5302384 , -0.47885958, -0.42748076, -0.37610194,\n",
       "        -0.32472312, -0.27334431, -0.22196549, -0.17058667, -0.11920785,\n",
       "        -0.06782903, -0.01645021,  0.03492861,  0.08630743,  0.13768624,\n",
       "         0.18906506,  0.24044388,  0.2918227 ,  0.34320152,  0.39458034,\n",
       "         0.44595916,  0.49733798,  0.5487168 ,  0.60009561,  0.65147443,\n",
       "         0.70285325,  0.75423207,  0.80561089,  0.85698971,  0.90836853,\n",
       "         0.95974735,  1.01112616,  1.06250498,  1.1138838 ,  1.16526262,\n",
       "         1.21664144,  1.26802026,  1.31939908,  1.3707779 ,  1.42215671,\n",
       "         1.47353553,  1.52491435,  1.57629317,  1.62767199,  1.67905081,\n",
       "         1.73042963,  1.78180845,  1.83318726,  1.88456608,  1.9359449 ,\n",
       "         1.98732372,  2.03870254,  2.09008136,  2.14146018,  2.192839  ,\n",
       "         2.24421781,  2.29559663,  2.34697545,  2.39835427,  2.44973309,\n",
       "         2.50111191]),\n",
       " <a list of 100 Patch objects>)"
      ]
     },
     "execution_count": 49,
     "metadata": {},
     "output_type": "execute_result"
    },
    {
     "data": {
      "image/png": "[encoded data removed]",
      "text/plain": [
       "<Figure size 432x288 with 1 Axes>"
      ]
     },
     "metadata": {
      "needs_background": "light"
     },
     "output_type": "display_data"
    }
   ],
   "source": [
    "plt.hist(x,100)"
   ]
  },
  {
   "cell_type": "code",
   "execution_count": null,
   "metadata": {},
   "outputs": [],
   "source": []
  }
 ],
 "metadata": {
  "kernelspec": {
   "display_name": "Python 3",
   "language": "python",
   "name": "python3"
  },
  "language_info": {
   "codemirror_mode": {
    "name": "ipython",
    "version": 3
   },
   "file_extension": ".py",
   "mimetype": "text/x-python",
   "name": "python",
   "nbconvert_exporter": "python",
   "pygments_lexer": "ipython3",
   "version": "3.7.4"
  }
 },
 "nbformat": 4,
 "nbformat_minor": 2
}
