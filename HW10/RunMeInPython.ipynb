{
 "cells": [
  {
   "cell_type": "code",
   "execution_count": 62,
   "metadata": {},
   "outputs": [],
   "source": [
    "import numpy as np\n",
    "import math\n",
    "import matplotlib.pyplot as plt\n",
    "from scipy.special import gamma\n",
    "from scipy.stats import multivariate_normal\n",
    "%matplotlib inline"
   ]
  },
  {
   "cell_type": "code",
   "execution_count": 66,
   "metadata": {},
   "outputs": [],
   "source": [
    "class SSSD:\n",
    "    def __init__(self, v, n, o):\n",
    "        self.v = v\n",
    "        self.n = n\n",
    "        self.o = o\n",
    "        \n",
    "    #Scaled/shifted Student's t Distribution\n",
    "    def pi_dist(self, x):\n",
    "        term_1 = gamma((self.v + 1) / 2) / (gamma(self.v / 2) * np.sqrt(self.v * np.pi) * self.o)\n",
    "        term_2 = (1 + ((1 / self.v) * ((x - self.n) / self.o)**2))**(-(self.v + 1) / 2)\n",
    "        return term_1 * term_2\n",
    "    \n",
    "    def next(self, n):\n",
    "        numbers = []\n",
    "        for i in range(1, n):\n",
    "            rand = np.random.rand() # the independent variables come from an uniform distribution.\n",
    "            numbers.append(self.pi_dist(rand))\n",
    "        return numbers\n",
    "\n",
    "class MCMC:\n",
    "    def __init__(self, nu, sigma, mu, data):\n",
    "        self.N = len(data)\n",
    "        self.v = nu\n",
    "        self.o = sigma\n",
    "        self.n = mu\n",
    "        self.data = data\n",
    "        \n",
    "    def likelihood(self):\n",
    "        term_1 = gamma((self.v + 1) / 2) / (gamma(self.v / 2) * np.sqrt(self.v * np.pi) * self.o)\n",
    "        result = 1\n",
    "        for x_i in self.data:\n",
    "            term_2 = (1 + ((1 / self.v) * ((x_i - self.n) / self.o)**2))**(-(self.v + 1) / 2)\n",
    "            result = result * term_1 * term_2\n",
    "        return result\n",
    "    \n",
    "    def proposed_distribution(self):\n",
    "        pass\n",
    "    \n",
    "    def run(self, times):\n",
    "        x = np.zeros(times)\n",
    "        x[0] = data[0]\n",
    "        acceptance_rate = 0\n",
    "        for i in range(0, times-1):\n",
    "            y = np.random.uniform(x[i]-2,x[i]+2,1)[0]\n",
    "            rand = np.random.rand()\n",
    "            if rand < min(1, self.pi_dist(y)/self.pi_dist(x[i])):\n",
    "                x[i+1] = y\n",
    "                acceptance_rate = acceptance_rate + 1\n",
    "            else:\n",
    "                x[i+1] = x[i]\n",
    "        return x, acceptance_rate / float(times)\n",
    "\n",
    "        "
   ]
  },
  {
   "cell_type": "code",
   "execution_count": 67,
   "metadata": {},
   "outputs": [],
   "source": [
    "nu = 3\n",
    "mu = 1\n",
    "sigma = 1"
   ]
  },
  {
   "cell_type": "code",
   "execution_count": 68,
   "metadata": {},
   "outputs": [
    {
     "data": {
      "text/plain": [
       "[]"
      ]
     },
     "execution_count": 68,
     "metadata": {},
     "output_type": "execute_result"
    },
    {
     "data": {
      "image/png": "[encoded data removed]",
      "text/plain": [
       "<Figure size 432x288 with 1 Axes>"
      ]
     },
     "metadata": {
      "needs_background": "light"
     },
     "output_type": "display_data"
    }
   ],
   "source": [
    "N = 1000\n",
    "# arbitrary number\n",
    "seed = 0.5\n",
    "#generate N numbers\n",
    "generator = SSSD(nu, mu,sigma)\n",
    "numbers = generator.next(N)\n",
    "plt.hist(numbers, density=True, bins=10)\n",
    "plt.plot()"
   ]
  },
  {
   "cell_type": "code",
   "execution_count": 69,
   "metadata": {},
   "outputs": [
    {
     "name": "stdout",
     "output_type": "stream",
     "text": [
      "0.0\n"
     ]
    }
   ],
   "source": [
    "rand_nu = np.random.uniform(0.1, 10)\n",
    "rand_mu = np.random.uniform(-5, 5)\n",
    "rand_sigma = np.random.uniform(0.1, 10) \n",
    "\n",
    "mcmc = MCMC(rand_nu, rand_mu, rand_sigma, numbers) \n",
    "\n",
    "l = mcmc.likelihood()\n",
    "print(l)"
   ]
  },
  {
   "cell_type": "code",
   "execution_count": null,
   "metadata": {},
   "outputs": [],
   "source": []
  }
 ],
 "metadata": {
  "kernelspec": {
   "display_name": "Python 3",
   "language": "python",
   "name": "python3"
  },
  "language_info": {
   "codemirror_mode": {
    "name": "ipython",
    "version": 3
   },
   "file_extension": ".py",
   "mimetype": "text/x-python",
   "name": "python",
   "nbconvert_exporter": "python",
   "pygments_lexer": "ipython3",
   "version": "3.7.4"
  }
 },
 "nbformat": 4,
 "nbformat_minor": 2
}
