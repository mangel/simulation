{
 "cells": [
  {
   "cell_type": "code",
   "execution_count": 1,
   "metadata": {},
   "outputs": [],
   "source": [
    "import numpy as np\n",
    "import math\n",
    "import matplotlib.pyplot as plt\n",
    "from scipy.special import gamma\n",
    "%matplotlib inline"
   ]
  },
  {
   "cell_type": "code",
   "execution_count": 2,
   "metadata": {},
   "outputs": [],
   "source": [
    "class MCMC:\n",
    "    def __init__(self, v, n, o, a):\n",
    "        self.v = v\n",
    "        self.n = n\n",
    "        self.o = o\n",
    "        self.a = a\n",
    "    #Scaled/shifted Student's t Distribution\n",
    "    def pi_dist(self, x):\n",
    "        term_1 = gamma((self.v + 1) / 2) / (gamma(self.v / 2) * np.sqrt(self.v * np.pi) * self.o)\n",
    "        term_2 = (1 + ((1 / self.v) * ((x - self.n) / self.o)**2))**(-(self.v + 1) / 2)\n",
    "        return term_1 * term_2\n",
    "    #Proposal distribution\n",
    "    def q_dist(self, x, y):\n",
    "        term_1 = 1 / (math.sqrt(2 * math.pi) * self.a)\n",
    "        term_2 = math.exp(-(y - x)**2 / (2 * self.a**2))\n",
    "        return term_1 * term_2\n",
    "    \n",
    "    def run(self, times, default_state_x):\n",
    "        x = np.zeros(times)\n",
    "        x[0] = default_state_x\n",
    "        acceptance_rate = 0\n",
    "        for i in range(0, times-1):\n",
    "            ######################################################################\n",
    "            # I'M NOT SURE ABOUT THIS PART\n",
    "            # I used these two values because i know that most of the values of de distribuiton \n",
    "            # are around -2 and 2, eventually with these parameters the data matches the CDF of the t distribution,\n",
    "            # but also experimenting instead with \n",
    "            #y = np.random.uniform(x[i]-self.a,x[i]+self.a,1)[0]\n",
    "            # also converges to the same result as 'self.a' is increased, it seems that\n",
    "            # the initial state does not matter at all.\n",
    "            y = np.random.uniform(x[i]-2,x[i]+2,1)[0]\n",
    "            #####################################################################\n",
    "            rand = np.random.rand()\n",
    "            if rand < min(1, self.pi_dist(y)/self.pi_dist(x[i])):\n",
    "                x[i+1] = y\n",
    "                acceptance_rate = acceptance_rate + 1\n",
    "            else:\n",
    "                x[i+1] = x[i]\n",
    "        return x, acceptance_rate / float(times)"
   ]
  },
  {
   "cell_type": "code",
   "execution_count": 3,
   "metadata": {},
   "outputs": [],
   "source": [
    "nu = 3\n",
    "mu = 1\n",
    "sigma = 1"
   ]
  },
  {
   "cell_type": "markdown",
   "metadata": {},
   "source": [
    "_(30 points)_ Run your code trying four different jump size scalings, $\\alpha = 0.01, \\alpha = 0.1, \\alpha = 1$ and $\\alpha = 10$. Visually inspect the chains. Which one appears to be exploring the distribution more effectively?\n",
    "\n",
    "### Preliminaries\n",
    "\n",
    "We can visually inspect the chains but we can say that the closer the values of $\\mu, \\sigma$ computed from the computed data to the initial parameters, the better the approximation."
   ]
  },
  {
   "cell_type": "code",
   "execution_count": 4,
   "metadata": {},
   "outputs": [],
   "source": [
    "n=1000\n",
    "d=np.zeros(n)\n",
    "x=0\n",
    "c = 0.5 # to compute the acceptance fraction"
   ]
  },
  {
   "cell_type": "markdown",
   "metadata": {},
   "source": [
    "For $\\alpha=0.01$ we have"
   ]
  },
  {
   "cell_type": "code",
   "execution_count": 17,
   "metadata": {},
   "outputs": [
    {
     "data": {
      "text/plain": [
       "[<matplotlib.lines.Line2D at 0x7f658415b890>]"
      ]
     },
     "execution_count": 17,
     "metadata": {},
     "output_type": "execute_result"
    },
    {
     "data": {
      "image/png": "[encoded data removed]",
      "text/plain": [
       "<Figure size 432x288 with 1 Axes>"
      ]
     },
     "metadata": {
      "needs_background": "light"
     },
     "output_type": "display_data"
    }
   ],
   "source": [
    "a=0.01\n",
    "simulator = MCMC(nu,mu,sigma,a)\n",
    "results, ar_001 = simulator.run(n,x)\n",
    "\n",
    "plt.hist(results, density=True, bins=100)\n",
    "plt.plot()\n",
    "dom = np.linspace(-10,10,100)\n",
    "plt.plot(dom, simulator.pi_dist(dom), 'r')"
   ]
  },
  {
   "cell_type": "code",
   "execution_count": 18,
   "metadata": {},
   "outputs": [
    {
     "name": "stdout",
     "output_type": "stream",
     "text": [
      "avg = 0.704291811526884, std = 1.3842693534447847$\n",
      "avg_difference = 0.295708188473116, std_difference = -0.38426935344478474$\n",
      "acceptance_rate = 0.646\n"
     ]
    }
   ],
   "source": [
    "mu_001 = np.mean(results)\n",
    "sigma_001 = np.std(results)\n",
    "print('avg = {}, std = {}$'.format(mu_001, sigma_001))\n",
    "print('avg_difference = {}, std_difference = {}$'.format(mu - mu_001, sigma - sigma_001))\n",
    "print('acceptance_rate = {}'.format(ar_001))"
   ]
  },
  {
   "cell_type": "markdown",
   "metadata": {},
   "source": [
    "For $\\alpha=0.1$ we have"
   ]
  },
  {
   "cell_type": "code",
   "execution_count": 19,
   "metadata": {},
   "outputs": [
    {
     "data": {
      "text/plain": [
       "[<matplotlib.lines.Line2D at 0x7f6584002d90>]"
      ]
     },
     "execution_count": 19,
     "metadata": {},
     "output_type": "execute_result"
    },
    {
     "data": {
      "image/png": "[encoded data removed]",
      "text/plain": [
       "<Figure size 432x288 with 1 Axes>"
      ]
     },
     "metadata": {
      "needs_background": "light"
     },
     "output_type": "display_data"
    }
   ],
   "source": [
    "a=0.1\n",
    "simulator = MCMC(nu,mu,sigma,a)\n",
    "results, ar_01 = simulator.run(n,x)\n",
    "\n",
    "plt.hist(results, density=True, bins=100)\n",
    "plt.plot()\n",
    "dom = np.linspace(-10,10,100)\n",
    "plt.plot(dom, simulator.pi_dist(dom), 'r')"
   ]
  },
  {
   "cell_type": "code",
   "execution_count": 20,
   "metadata": {},
   "outputs": [
    {
     "name": "stdout",
     "output_type": "stream",
     "text": [
      "avg = 1.1260098590409244, std = 1.2764878640099095$\n",
      "avg_difference = -0.12600985904092443, std_difference = -0.27648786400990955$\n",
      "acceptance_rate = 0.684\n"
     ]
    }
   ],
   "source": [
    "mu_01 = np.mean(results)\n",
    "sigma_01 = np.std(results)\n",
    "print('avg = {}, std = {}$'.format(mu_01, sigma_01))\n",
    "print('avg_difference = {}, std_difference = {}$'.format(mu - mu_01, sigma - sigma_01))\n",
    "print('acceptance_rate = {}'.format(ar_01))"
   ]
  },
  {
   "cell_type": "markdown",
   "metadata": {},
   "source": [
    "For $\\alpha=1$ we have"
   ]
  },
  {
   "cell_type": "code",
   "execution_count": 21,
   "metadata": {
    "scrolled": true
   },
   "outputs": [
    {
     "data": {
      "text/plain": [
       "[<matplotlib.lines.Line2D at 0x7f6583c87710>]"
      ]
     },
     "execution_count": 21,
     "metadata": {},
     "output_type": "execute_result"
    },
    {
     "data": {
      "image/png": "[encoded data removed]",
      "text/plain": [
       "<Figure size 432x288 with 1 Axes>"
      ]
     },
     "metadata": {
      "needs_background": "light"
     },
     "output_type": "display_data"
    }
   ],
   "source": [
    "a=1\n",
    "simulator = MCMC(nu,mu,sigma,a)\n",
    "results, ar_1 = simulator.run(n,x)\n",
    "\n",
    "plt.hist(results, density=True, bins=100)\n",
    "plt.plot()\n",
    "dom = np.linspace(-10,10,100)\n",
    "plt.plot(dom, simulator.pi_dist(dom), 'r')"
   ]
  },
  {
   "cell_type": "code",
   "execution_count": 22,
   "metadata": {},
   "outputs": [
    {
     "name": "stdout",
     "output_type": "stream",
     "text": [
      "avg = 0.8704706110260677, std = 1.3116106454063678$\n",
      "avg_difference = 0.1295293889739323, std_difference = -0.31161064540636785$\n",
      "acceptance_rate = 0.647\n"
     ]
    }
   ],
   "source": [
    "mu_1 = np.mean(results)\n",
    "sigma_1 = np.std(results)\n",
    "print('avg = {}, std = {}$'.format(mu_1, sigma_1))\n",
    "print('avg_difference = {}, std_difference = {}$'.format(mu - mu_1, sigma - sigma_1))\n",
    "print('acceptance_rate = {}'.format(ar_1))"
   ]
  },
  {
   "cell_type": "markdown",
   "metadata": {},
   "source": [
    "For $\\alpha=10$ we have"
   ]
  },
  {
   "cell_type": "code",
   "execution_count": 23,
   "metadata": {},
   "outputs": [
    {
     "data": {
      "text/plain": [
       "[<matplotlib.lines.Line2D at 0x7f65837caf50>]"
      ]
     },
     "execution_count": 23,
     "metadata": {},
     "output_type": "execute_result"
    },
    {
     "data": {
      "image/png": "[encoded data removed]",
      "text/plain": [
       "<Figure size 432x288 with 1 Axes>"
      ]
     },
     "metadata": {
      "needs_background": "light"
     },
     "output_type": "display_data"
    }
   ],
   "source": [
    "a=10\n",
    "simulator = MCMC(nu,mu,sigma,a)\n",
    "results, ar_10 = simulator.run(n,x)\n",
    "\n",
    "plt.hist(results, density=True, bins=100)\n",
    "plt.plot()\n",
    "dom = np.linspace(-10,10,100)\n",
    "plt.plot(dom, simulator.pi_dist(dom), 'r')"
   ]
  },
  {
   "cell_type": "code",
   "execution_count": 24,
   "metadata": {},
   "outputs": [
    {
     "name": "stdout",
     "output_type": "stream",
     "text": [
      "avg = -0.7614601812546741, std = 3.9654065940993872$\n",
      "avg_difference = 1.761460181254674, std_difference = -2.9654065940993872$\n",
      "acceptance_rate = 0.703\n"
     ]
    }
   ],
   "source": [
    "mu_10 = np.mean(results)\n",
    "sigma_10 = np.std(results)\n",
    "print('avg = {}, std = {}$'.format(mu_10, sigma_10))\n",
    "print('avg_difference = {}, std_difference = {}$'.format(mu - mu_10, sigma - sigma_10))\n",
    "print('acceptance_rate = {}'.format(ar_10))"
   ]
  },
  {
   "cell_type": "code",
   "execution_count": 25,
   "metadata": {},
   "outputs": [],
   "source": [
    "mus = np.array([mu_001, mu_01, mu_1, mu_10])\n",
    "sigmas = np.array([sigma_001, sigma_01, sigma_1, sigma_10])"
   ]
  },
  {
   "cell_type": "code",
   "execution_count": 26,
   "metadata": {},
   "outputs": [
    {
     "data": {
      "text/plain": [
       "0.704291811526884"
      ]
     },
     "execution_count": 26,
     "metadata": {},
     "output_type": "execute_result"
    }
   ],
   "source": [
    "min(abs(mus))"
   ]
  },
  {
   "cell_type": "code",
   "execution_count": 27,
   "metadata": {},
   "outputs": [
    {
     "data": {
      "text/plain": [
       "1.2764878640099095"
      ]
     },
     "execution_count": 27,
     "metadata": {},
     "output_type": "execute_result"
    }
   ],
   "source": [
    "min(abs(sigmas))"
   ]
  },
  {
   "cell_type": "markdown",
   "metadata": {},
   "source": [
    "If we compare visually, the graphs that cover most of the parts of the curve will be the values that explore better curve, but I also notice after running the simulation several times the choice of the graph that better explores the curve does not seem so easy to see, and this happens even by comparing to the values of the mean and the standard deviation, at least with increments in the choice of the interval on the uniform distribution on the simulation function (which is commentend on the code) so I will say that up to this point, the choice of which graph will be a better solution to the exploration, depends on the parameters and the 'proposition distribuition', but for the set of parameters chosen $\\alpha = 10$ seems to have explored better the curve."
   ]
  },
  {
   "cell_type": "markdown",
   "metadata": {},
   "source": [
    "Now, we will check the values of the acceptance fractions:"
   ]
  },
  {
   "cell_type": "code",
   "execution_count": 30,
   "metadata": {},
   "outputs": [
    {
     "data": {
      "text/plain": [
       "[0.646, 0.684, 0.647, 0.703]"
      ]
     },
     "execution_count": 30,
     "metadata": {},
     "output_type": "execute_result"
    }
   ],
   "source": [
    "ac_rates = [ar_001, ar_01, ar_1, ar_10]\n",
    "ac_rates"
   ]
  },
  {
   "cell_type": "markdown",
   "metadata": {},
   "source": [
    "We can see here that the acceptance rate was greater as the jump size was increased, but does a higher acceptance rate means efficient exploration distribuition?\n",
    "\n",
    "I will say that it is, we are computing a ratio of the number of estimations that change from one state to another on the (subjacent) Markov Chain, against how many estimations we computed, it is the same principle behind Monte Carlo integration.Besides, even by assuming that de difference in computational time between each iteration is not significant, we can be sure that more estimations will mean more time, which will be a good measure of how well the curve was explored in terms of performance and result. "
   ]
  }
 ],
 "metadata": {
  "kernelspec": {
   "display_name": "Python 3",
   "language": "python",
   "name": "python3"
  },
  "language_info": {
   "codemirror_mode": {
    "name": "ipython",
    "version": 3
   },
   "file_extension": ".py",
   "mimetype": "text/x-python",
   "name": "python",
   "nbconvert_exporter": "python",
   "pygments_lexer": "ipython3",
   "version": "3.7.4"
  }
 },
 "nbformat": 4,
 "nbformat_minor": 2
}
